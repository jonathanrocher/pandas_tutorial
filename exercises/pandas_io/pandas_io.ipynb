{
 "metadata": {
  "name": "",
  "signature": "sha256:f1db740eb17909d34ded16fff6ed1d05df6d5951fbf215cdac853d2cff681c77"
 },
 "nbformat": 3,
 "nbformat_minor": 0,
 "worksheets": [
  {
   "cells": [
    {
     "cell_type": "markdown",
     "metadata": {},
     "source": [
      "Copyright 2015 Enthought, Inc. All Rights Reserved"
     ]
    },
    {
     "cell_type": "markdown",
     "metadata": {},
     "source": [
      "Pandas IO\n",
      "==========\n",
      "This folder contains 4 datasets in different ascii-based files:\n",
      "1. all values of the S&P500 index since its beginning until July 2014,\n",
      "2. some stock values for 5 major stocks between 2005 and 2009,\n",
      "3. some recent tick data (one value per minute) for the AAPL stock, and\n",
      "4. all historical data for the NASDAQ stock exchange since its beginning downloaded from the web.\n",
      "\n",
      "The goal of this exercise is to load each of these files into a `DataFrame` using `read_table` (and `read_html` for the bonus question), while doing some clean up. These four `DataFrame`s will represent the basis for upcoming financial tasks. "
     ]
    },
    {
     "cell_type": "code",
     "collapsed": false,
     "input": [
      "from pandas import read_table, read_html"
     ],
     "language": "python",
     "metadata": {},
     "outputs": [],
     "prompt_number": 1
    },
    {
     "cell_type": "code",
     "collapsed": false,
     "input": [
      "read_table?"
     ],
     "language": "python",
     "metadata": {},
     "outputs": [],
     "prompt_number": 2
    },
    {
     "cell_type": "markdown",
     "metadata": {},
     "source": [
      "Question 1. \n",
      "-----------\n",
      "The first file (\"HistoricalS_and_P500.csv\") is comma separated and contains historical data for the S&P200 index since **1950**. The first column contains the date in the format MM/DD/YY. We would like to make these dates the index of the `DataFrame` created. The next 6 columns are the usual values for a given day. The name of the columns is stated at the top of the file.\n",
      "\n",
      "1. Try to do a simple `read_table` on the file, parsing the dates in the data (see `parse_dates`), and using the first column as an index. Look at the date range of the resulting dataframe.\n",
      "2. To fix this issue, we will need to help the date parser. Have a look to the `read_table` documentation (see `converters`). You will see that that can be done by providing our own date parser, or modifying the string as it comes in to add the century number the way we want. Write a function that converts a date formatted as MM/DD/YY and make it MM/DD/YYYY.\n",
      "3. Use that function to improve your `read_table` call."
     ]
    },
    {
     "cell_type": "code",
     "collapsed": false,
     "input": [
      "# your solution here"
     ],
     "language": "python",
     "metadata": {},
     "outputs": [],
     "prompt_number": 3
    },
    {
     "cell_type": "markdown",
     "metadata": {},
     "source": [
      "Question 2. \n",
      "-----------\n",
      "The second file (\"adj_close_stock_data_yahoo_2005_2010.txt\") is space delimited. More precisely, the separation can be any number of space characters. This file contains 8 columns. The first 3 are the year, month, and day of the trading day and the next 5 are the open prices for the 5 stocks: AAPL, GOOG, MSFT, PG, XOM. Additionally, the file contains some missing values in 2005. They are encoded as a `-` when corrupted data was collected for that day. Load the dataset into a `DataFrame` with a basic numbered index for now, making sure to encode the `-` symbols as `NaN` (missing values).\n",
      "\n",
      "Note: the separator argument of `read_table` can receive a [regular expression](http://en.wikipedia.org/wiki/Regular_expression). `\\s` is any space character. `\\s+` is one or more space character."
     ]
    },
    {
     "cell_type": "code",
     "collapsed": false,
     "input": [
      "# your solution here"
     ],
     "language": "python",
     "metadata": {},
     "outputs": []
    },
    {
     "cell_type": "markdown",
     "metadata": {},
     "source": [
      "Question 3. \n",
      "-----------\n",
      "The third file (\"TechTickerSampleData.txt\") starts with a header of 7 lines. Afterward, the data part is tab delimited and contains tick data for AAPL and MSFT. The first column specifies if the tick information is for AAPL or MSFT. The second column is the timestamp of the tick data in minutes, and the meaning of the following 5 columns can be read off of line number 5: Close, High, Low, Open, Volume. \n",
      "\n",
      "Create a `DataFrame`, making the second column the index. "
     ]
    },
    {
     "cell_type": "code",
     "collapsed": false,
     "input": [
      "# your solution here"
     ],
     "language": "python",
     "metadata": {},
     "outputs": []
    },
    {
     "cell_type": "markdown",
     "metadata": {},
     "source": [
      "Bonus\n",
      "=====\n",
      "Question 4. \n",
      "-----------\n",
      "The fourth file (\"HistoricalNASDAQ.htm\") is an html file with daily NASDAQ index returns. The description of the columns is again provided on the first line of the table. Return a `DataFrame` whose index is the date column.\n",
      "\n",
      "Advice: Parsing html is always a complicated task. Reading the help on `read_html` is highly recommended. In particular, the default value for `header` may cause issues."
     ]
    },
    {
     "cell_type": "code",
     "collapsed": false,
     "input": [
      "read_html?"
     ],
     "language": "python",
     "metadata": {},
     "outputs": []
    },
    {
     "cell_type": "code",
     "collapsed": false,
     "input": [
      "# your solution here"
     ],
     "language": "python",
     "metadata": {},
     "outputs": []
    }
   ],
   "metadata": {}
  }
 ]
}